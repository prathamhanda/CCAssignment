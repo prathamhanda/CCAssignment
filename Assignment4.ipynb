{
  "nbformat": 4,
  "nbformat_minor": 0,
  "metadata": {
    "colab": {
      "provenance": [],
      "authorship_tag": "ABX9TyP2iMB2HSGldGgdDjmpaRXD",
      "include_colab_link": true
    },
    "kernelspec": {
      "name": "python3",
      "display_name": "Python 3"
    },
    "language_info": {
      "name": "python"
    }
  },
  "cells": [
    {
      "cell_type": "markdown",
      "metadata": {
        "id": "view-in-github",
        "colab_type": "text"
      },
      "source": [
        "<a href=\"https://colab.research.google.com/github/prathamhanda/PyAssignment/blob/main/Assignment4.ipynb\" target=\"_parent\"><img src=\"https://colab.research.google.com/assets/colab-badge.svg\" alt=\"Open In Colab\"/></a>"
      ]
    },
    {
      "cell_type": "markdown",
      "source": [
        "Name: Pratham Handa <br>\n",
        "Roll No: 102317106 <br>\n",
        "Sub-Group: 2Q14 <br>\n",
        "Assignment 4 Submission"
      ],
      "metadata": {
        "id": "qSjbUPorI9iM"
      }
    },
    {
      "cell_type": "markdown",
      "source": [
        "Question 1"
      ],
      "metadata": {
        "id": "Vy1xcjhKK2xa"
      }
    },
    {
      "cell_type": "code",
      "source": [
        "import numpy as np\n",
        "\n",
        "# i.\n",
        "c = np.array([1,2,3,4,5])\n",
        "b = c+2\n",
        "print(b)\n",
        "\n",
        "# ii.\n",
        "d = c*3\n",
        "print(d)\n",
        "\n",
        "# iii.\n",
        "e = c/2\n",
        "print(e)"
      ],
      "metadata": {
        "colab": {
          "base_uri": "https://localhost:8080/"
        },
        "id": "_FzmPtyXJKNm",
        "outputId": "6aaf1dde-f955-471f-fcf6-a950effa5cbd"
      },
      "execution_count": null,
      "outputs": [
        {
          "output_type": "stream",
          "name": "stdout",
          "text": [
            "[3 4 5 6 7]\n",
            "[ 3  6  9 12 15]\n",
            "[0.5 1.  1.5 2.  2.5]\n"
          ]
        }
      ]
    },
    {
      "cell_type": "markdown",
      "source": [
        "Question 2"
      ],
      "metadata": {
        "id": "Fdl92od9KbQs"
      }
    },
    {
      "cell_type": "code",
      "source": [
        "import numpy as np\n",
        "\n",
        "# a.\n",
        "arr = np.array([1, 2, 3, 6, 4, 5])\n",
        "rev = np.flip(arr)\n",
        "print(\"Reversed Array:\",rev)\n",
        "\n",
        "# b.\n",
        "def most_frequent(arr):\n",
        "    values, counts = np.unique(arr, return_counts=True)\n",
        "    max_count = np.max(counts)\n",
        "    most_freq_val = values[counts == max_count][0]\n",
        "    indices = np.where(arr == most_freq_val)[0]\n",
        "    return most_freq_val, indices\n",
        "\n",
        "x = np.array([1, 2, 3, 4, 5, 1, 2, 1, 1, 1])\n",
        "y = np.array([1, 1, 1, 2, 3, 4, 2, 4, 3, 3])\n",
        "\n",
        "most_freq_x, indices_x = most_frequent(x)\n",
        "print(f\"Most frequent value in x: {most_freq_x}, Indices: {indices_x}\")\n",
        "\n",
        "most_freq_y, indices_y = most_frequent(y)\n",
        "print(f\"Most frequent value in y: {most_freq_y}, Indices: {indices_y}\")"
      ],
      "metadata": {
        "colab": {
          "base_uri": "https://localhost:8080/"
        },
        "id": "iXoYEcIzKYlI",
        "outputId": "d5a85295-35fa-40e3-f63c-ef22d7a33e5a"
      },
      "execution_count": 1,
      "outputs": [
        {
          "output_type": "stream",
          "name": "stdout",
          "text": [
            "Reversed Array: [5 4 6 3 2 1]\n",
            "Most frequent value in x: 1, Indices: [0 5 7 8 9]\n",
            "Most frequent value in y: 1, Indices: [0 1 2]\n"
          ]
        }
      ]
    },
    {
      "cell_type": "markdown",
      "source": [
        "Question 3"
      ],
      "metadata": {
        "id": "_VvZaSlZOg2X"
      }
    },
    {
      "cell_type": "code",
      "source": [
        "import numpy as np\n",
        "\n",
        "arr=np.array([[10, 20, 30], [40, 50, 60], [70, 80, 90]])\n",
        "\n",
        "print(\"Access 1st row, 2nd column: \", arr[0][1])\n",
        "print(\"Access 3rd row, 1st column: \", arr[2][0])"
      ],
      "metadata": {
        "colab": {
          "base_uri": "https://localhost:8080/"
        },
        "id": "UzY4-qQ_Oh5r",
        "outputId": "b87f9881-52ad-4e3d-e5b6-f49b0f967e76"
      },
      "execution_count": null,
      "outputs": [
        {
          "output_type": "stream",
          "name": "stdout",
          "text": [
            "Access 1st row, 2nd column:  20\n",
            "Access 3rd row, 1st column:  70\n"
          ]
        }
      ]
    },
    {
      "cell_type": "markdown",
      "source": [
        "Question 4"
      ],
      "metadata": {
        "id": "X5xF4nNAJibl"
      }
    },
    {
      "cell_type": "code",
      "source": [
        "import numpy as np\n",
        "\n",
        "Pratham = np.linspace(10, 100, 25)\n",
        "print(\"Array:\", Pratham)\n",
        "print(\"Dimensions:\", Pratham.ndim)\n",
        "print(\"Shape:\", Pratham.shape)\n",
        "print(\"Total elements:\", Pratham.size)\n",
        "print(\"Data type:\", Pratham.dtype)\n",
        "print(\"Total bytes consumed:\", Pratham.nbytes)\n",
        "Pratham_transpose = Pratham.reshape(25, 1)\n",
        "print(\"Transpose using reshape():\\n\", Pratham_transpose)\n",
        "print(Pratham_transpose.shape)\n",
        "\n",
        "print(\"Transposing a 1D array using the .T attribute does not change its shape. We need to explicitly create it 2D Array.\")\n",
        "Pratham = Pratham.reshape(1,25)\n",
        "print(\"Transpose using T attribute:\\n\", Pratham.T)"
      ],
      "metadata": {
        "colab": {
          "base_uri": "https://localhost:8080/"
        },
        "id": "RwZriWT3JkMz",
        "outputId": "79585136-5daf-48dd-b32c-c396430f534c"
      },
      "execution_count": 13,
      "outputs": [
        {
          "output_type": "stream",
          "name": "stdout",
          "text": [
            "Array: [ 10.    13.75  17.5   21.25  25.    28.75  32.5   36.25  40.    43.75\n",
            "  47.5   51.25  55.    58.75  62.5   66.25  70.    73.75  77.5   81.25\n",
            "  85.    88.75  92.5   96.25 100.  ]\n",
            "Dimensions: 1\n",
            "Shape: (25,)\n",
            "Total elements: 25\n",
            "Data type: float64\n",
            "Total bytes consumed: 200\n",
            "Transpose using reshape():\n",
            " [[ 10.  ]\n",
            " [ 13.75]\n",
            " [ 17.5 ]\n",
            " [ 21.25]\n",
            " [ 25.  ]\n",
            " [ 28.75]\n",
            " [ 32.5 ]\n",
            " [ 36.25]\n",
            " [ 40.  ]\n",
            " [ 43.75]\n",
            " [ 47.5 ]\n",
            " [ 51.25]\n",
            " [ 55.  ]\n",
            " [ 58.75]\n",
            " [ 62.5 ]\n",
            " [ 66.25]\n",
            " [ 70.  ]\n",
            " [ 73.75]\n",
            " [ 77.5 ]\n",
            " [ 81.25]\n",
            " [ 85.  ]\n",
            " [ 88.75]\n",
            " [ 92.5 ]\n",
            " [ 96.25]\n",
            " [100.  ]]\n",
            "(25, 1)\n",
            "Transposing a 1D array using the .T attribute does not change its shape. We need to explicitly create it 2D Array.\n",
            "Transpose using T attribute:\n",
            " [[ 10.  ]\n",
            " [ 13.75]\n",
            " [ 17.5 ]\n",
            " [ 21.25]\n",
            " [ 25.  ]\n",
            " [ 28.75]\n",
            " [ 32.5 ]\n",
            " [ 36.25]\n",
            " [ 40.  ]\n",
            " [ 43.75]\n",
            " [ 47.5 ]\n",
            " [ 51.25]\n",
            " [ 55.  ]\n",
            " [ 58.75]\n",
            " [ 62.5 ]\n",
            " [ 66.25]\n",
            " [ 70.  ]\n",
            " [ 73.75]\n",
            " [ 77.5 ]\n",
            " [ 81.25]\n",
            " [ 85.  ]\n",
            " [ 88.75]\n",
            " [ 92.5 ]\n",
            " [ 96.25]\n",
            " [100.  ]]\n"
          ]
        }
      ]
    },
    {
      "cell_type": "markdown",
      "source": [
        "Question 5"
      ],
      "metadata": {
        "id": "A1MBmSjgL75q"
      }
    },
    {
      "cell_type": "code",
      "source": [
        "ucs420_Pratham = np.array([[10, 20, 30, 40], [50, 60, 70, 80], [90, 15, 20, 35]])\n",
        "print(\"Mean:\", np.mean(ucs420_Pratham))\n",
        "print(\"Median:\", np.median(ucs420_Pratham))\n",
        "print(\"Max:\", np.max(ucs420_Pratham))\n",
        "print(\"Min:\", np.min(ucs420_Pratham))\n",
        "print(\"Unique elements:\", np.unique(ucs420_Pratham))\n",
        "reshaped_ucs420_Pratham = ucs420_Pratham.reshape(4, 3)\n",
        "print(\"Reshaped (4x3):\\n\", reshaped_ucs420_Pratham)\n",
        "resized_ucs420_Pratham = np.resize(ucs420_Pratham, (2, 3))\n",
        "print(\"Resized (2x3):\\n\", resized_ucs420_Pratham)"
      ],
      "metadata": {
        "colab": {
          "base_uri": "https://localhost:8080/"
        },
        "id": "MSsnAzhbL-fe",
        "outputId": "5dfe33e0-7d8b-431d-dcf3-1e3ead498bb9"
      },
      "execution_count": 14,
      "outputs": [
        {
          "output_type": "stream",
          "name": "stdout",
          "text": [
            "Mean: 43.333333333333336\n",
            "Median: 37.5\n",
            "Max: 90\n",
            "Min: 10\n",
            "Unique elements: [10 15 20 30 35 40 50 60 70 80 90]\n",
            "Reshaped (4x3):\n",
            " [[10 20 30]\n",
            " [40 50 60]\n",
            " [70 80 90]\n",
            " [15 20 35]]\n",
            "Resized (2x3):\n",
            " [[10 20 30]\n",
            " [40 50 60]]\n"
          ]
        }
      ]
    }
  ]
}