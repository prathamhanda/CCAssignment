{
  "nbformat": 4,
  "nbformat_minor": 0,
  "metadata": {
    "colab": {
      "provenance": [],
      "authorship_tag": "ABX9TyMlTGZ66QGNyrVUMRembnOb",
      "include_colab_link": true
    },
    "kernelspec": {
      "name": "python3",
      "display_name": "Python 3"
    },
    "language_info": {
      "name": "python"
    }
  },
  "cells": [
    {
      "cell_type": "markdown",
      "metadata": {
        "id": "view-in-github",
        "colab_type": "text"
      },
      "source": [
        "<a href=\"https://colab.research.google.com/github/prathamhanda/PyAssignment/blob/main/Assignment_5.ipynb\" target=\"_parent\"><img src=\"https://colab.research.google.com/assets/colab-badge.svg\" alt=\"Open In Colab\"/></a>"
      ]
    },
    {
      "cell_type": "markdown",
      "source": [
        "Name: Pratham Handa <br>\n",
        "Roll No: 102317106 <br>\n",
        "Sub-Group: 2Q14 <br>\n",
        "Assignment 5 Submission"
      ],
      "metadata": {
        "id": "4WOgjaqxRzmH"
      }
    },
    {
      "cell_type": "markdown",
      "source": [
        "Question 1"
      ],
      "metadata": {
        "id": "SHcrYJyvWsIX"
      }
    },
    {
      "cell_type": "code",
      "execution_count": 9,
      "metadata": {
        "colab": {
          "base_uri": "https://localhost:8080/"
        },
        "id": "ak9vZaqjRYrg",
        "outputId": "0523e5d7-f4af-43a6-c552-606ca6222036"
      },
      "outputs": [
        {
          "output_type": "stream",
          "name": "stdout",
          "text": [
            "45\n",
            "[[14]\n",
            " [16]\n",
            " [15]]\n",
            "[[20  9 16]]\n"
          ]
        }
      ],
      "source": [
        "import numpy as np\n",
        "\n",
        "gfg = np.matrix('[4, 1, 9; 12, 3, 1; 4, 5, 6]')\n",
        "print(np.sum(gfg))  # i\n",
        "print(np.sum(gfg, axis=1))  # ii\n",
        "print(np.sum(gfg, axis=0))  # iii"
      ]
    },
    {
      "cell_type": "markdown",
      "source": [
        "Question 2"
      ],
      "metadata": {
        "id": "B7m53H8uRyBG"
      }
    },
    {
      "cell_type": "code",
      "source": [
        "import numpy as np\n",
        "\n",
        "# Q2 (a)\n",
        "array = np.array([10, 52, 62, 16, 16, 54, 453])\n",
        "print(np.sort(array))  # i\n",
        "print(np.argsort(array))  # ii\n",
        "print(np.sort(array)[:4])  # iii\n",
        "print(np.sort(array)[-5:])  # iv\n",
        "\n",
        "# Q2 (b)\n",
        "array = np.array([1.0, 1.2, 2.2, 2.0, 3.0, 2.0])\n",
        "print(array[array == array.astype(int)])  # i\n",
        "print(array[array != array.astype(int)])  # ii"
      ],
      "metadata": {
        "colab": {
          "base_uri": "https://localhost:8080/"
        },
        "id": "nSSaCQc7W1t1",
        "outputId": "608f2d1c-07ab-445e-ce89-2eed2a0b441e"
      },
      "execution_count": 10,
      "outputs": [
        {
          "output_type": "stream",
          "name": "stdout",
          "text": [
            "[ 10  16  16  52  54  62 453]\n",
            "[0 3 4 1 5 2 6]\n",
            "[10 16 16 52]\n",
            "[ 16  52  54  62 453]\n",
            "[1. 2. 3. 2.]\n",
            "[1.2 2.2]\n"
          ]
        }
      ]
    },
    {
      "cell_type": "markdown",
      "source": [
        "Question 3"
      ],
      "metadata": {
        "id": "R1qZ5kKw3tMR"
      }
    },
    {
      "cell_type": "code",
      "source": [
        "import numpy as np\n",
        "\n",
        "def generate_sales_dataset(first_initial, last_initial):\n",
        "    X = ord(first_initial) + ord(last_initial)\n",
        "    sales = np.array([X, X+50, X+100, X+150, X+200])\n",
        "    tax_rate = ((X % 5) + 5) / 100\n",
        "    taxed_sales = sales * (1 + tax_rate)\n",
        "    discounts = np.where(sales < X+100, sales * 0.95, sales * 0.90)\n",
        "    sales_weeks = np.vstack([sales] * 3) * (1.02 ** np.arange(3)[:, None])\n",
        "    return sales, taxed_sales, discounts, sales_weeks\n",
        "\n",
        "sales, taxed_sales, discounts, sales_weeks = generate_sales_dataset('A', 'B')\n",
        "print(sales)\n",
        "print(taxed_sales)\n",
        "print(discounts)\n",
        "print(sales_weeks)"
      ],
      "metadata": {
        "id": "QJVRXvR0XEwN",
        "colab": {
          "base_uri": "https://localhost:8080/"
        },
        "outputId": "ac230f6a-35e0-4f83-96e8-4ab29c07328c"
      },
      "execution_count": 11,
      "outputs": [
        {
          "output_type": "stream",
          "name": "stdout",
          "text": [
            "[131 181 231 281 331]\n",
            "[138.86 191.86 244.86 297.86 350.86]\n",
            "[124.45 171.95 207.9  252.9  297.9 ]\n",
            "[[131.     181.     231.     281.     331.    ]\n",
            " [133.62   184.62   235.62   286.62   337.62  ]\n",
            " [136.2924 188.3124 240.3324 292.3524 344.3724]]\n"
          ]
        }
      ]
    },
    {
      "cell_type": "markdown",
      "source": [
        "Question 4"
      ],
      "metadata": {
        "id": "L6I8LtVl3wro"
      }
    },
    {
      "cell_type": "code",
      "source": [
        "import numpy as np\n",
        "import matplotlib.pyplot as plt\n",
        "\n",
        "x = np.linspace(-10, 10, 100)\n",
        "y1 = x**2\n",
        "y2 = np.sin(x)\n",
        "y3 = np.exp(x)\n",
        "y4 = np.log(np.abs(x) + 1)\n",
        "\n",
        "plt.figure(figsize=(10, 6))\n",
        "plt.plot(x, y1, label=\"x^2\")\n",
        "plt.plot(x, y2, label=\"sin(x)\")\n",
        "plt.plot(x, y3, label=\"exp(x)\")\n",
        "plt.plot(x, y4, label=\"log(|x| + 1)\")\n",
        "plt.title(\"Function Plots\")\n",
        "plt.xlabel(\"x\")\n",
        "plt.ylabel(\"y\")\n",
        "plt.legend()\n",
        "plt.grid()\n",
        "plt.show()"
      ],
      "metadata": {
        "colab": {
          "base_uri": "https://localhost:8080/",
          "height": 564
        },
        "id": "YHgL61ae3mg5",
        "outputId": "3a641716-cc4b-4336-d6eb-f655f2a3337c"
      },
      "execution_count": 12,
      "outputs": [
        {
          "output_type": "display_data",
          "data": {
            "text/plain": [
              "<Figure size 1000x600 with 1 Axes>"
            ],
            "image/png": "[encoded data removed]"
          },
          "metadata": {}
        }
      ]
    }
  ]
}