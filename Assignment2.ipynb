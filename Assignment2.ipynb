{
  "nbformat": 4,
  "nbformat_minor": 0,
  "metadata": {
    "colab": {
      "provenance": [],
      "authorship_tag": "ABX9TyP5evX0jzcswwmO7TDon4IU",
      "include_colab_link": true
    },
    "kernelspec": {
      "name": "python3",
      "display_name": "Python 3"
    },
    "language_info": {
      "name": "python"
    }
  },
  "cells": [
    {
      "cell_type": "markdown",
      "metadata": {
        "id": "view-in-github",
        "colab_type": "text"
      },
      "source": [
        "<a href=\"https://colab.research.google.com/github/prathamhanda/PyAssignment/blob/main/Assignment2.ipynb\" target=\"_parent\"><img src=\"https://colab.research.google.com/assets/colab-badge.svg\" alt=\"Open In Colab\"/></a>"
      ]
    },
    {
      "cell_type": "markdown",
      "source": [
        "Name: Pratham Handa <br>\n",
        "Roll No: 102317106 <br>\n",
        "Sub-Group: 2Q14 <br>\n",
        "Assignment 2 Submission\n",
        "\n"
      ],
      "metadata": {
        "id": "iJszNZSmVmCz"
      }
    },
    {
      "cell_type": "markdown",
      "source": [
        "Question 1"
      ],
      "metadata": {
        "id": "f0bZFJNwsvQM"
      }
    },
    {
      "cell_type": "code",
      "execution_count": null,
      "metadata": {
        "colab": {
          "base_uri": "https://localhost:8080/"
        },
        "id": "GHbd5v0SVUWZ",
        "outputId": "02e48508-4128-47fc-d454-0d81b0ea6b6b"
      },
      "outputs": [
        {
          "output_type": "stream",
          "name": "stdout",
          "text": [
            "Updated List: [10, 20, 30, 40, 50, 60, 70, 80, 200, 300]\n",
            "Updated List: [20, 40, 50, 60, 70, 80, 200, 300]\n",
            "List sorted in ascending order: [20, 40, 50, 60, 70, 80, 200, 300]\n",
            "List sorted in descending order: [300, 200, 80, 70, 60, 50, 40, 20]\n"
          ]
        }
      ],
      "source": [
        "L = [10, 20, 30, 40, 50, 60, 70, 80]\n",
        "\n",
        "# i.\n",
        "L.extend([200, 300])\n",
        "print(\"Updated List:\", L)\n",
        "\n",
        "# ii.\n",
        "L.remove(10)\n",
        "L.remove(30)\n",
        "print(\"Updated List:\", L)\n",
        "\n",
        "# iii\n",
        "L.sort()\n",
        "print(\"List sorted in ascending order:\", L)\n",
        "\n",
        "# iv.\n",
        "L.sort(reverse=True)\n",
        "print(\"List sorted in descending order:\", L)"
      ]
    },
    {
      "cell_type": "markdown",
      "source": [
        "Question 2"
      ],
      "metadata": {
        "id": "U5hEIXFkstcR"
      }
    },
    {
      "cell_type": "code",
      "source": [
        "T = (45, 89.5, 76, 45.4, 89, 92, 58, 45)\n",
        "\n",
        "#i.\n",
        "maxi = max(T)\n",
        "print(\"Maximum Score: \",maxi)\n",
        "print(\"It's index: \",T.index(maxi))\n",
        "\n",
        "#ii.\n",
        "mini=min(T)\n",
        "print(\"Lowest Score: \",mini)\n",
        "print(\"It's Count: \",T.count(mini))\n",
        "\n",
        "#iii.\n",
        "reversed_list = list(reversed(T))\n",
        "print(\"Reversed Tuple as a List:\", reversed_list)\n",
        "\n",
        "#iv.\n",
        "x=int(input(\"Enter the element to be searched: \"))\n",
        "if (x in T):\n",
        "  print(\"Element found at index: \", T.index(x))\n",
        "else:\n",
        "  print(\"Element not found\")"
      ],
      "metadata": {
        "colab": {
          "base_uri": "https://localhost:8080/"
        },
        "id": "aZbRdXYym13S",
        "outputId": "cefb25db-cb88-4b3a-a12d-99bfd493946b"
      },
      "execution_count": null,
      "outputs": [
        {
          "output_type": "stream",
          "name": "stdout",
          "text": [
            "MAximum Score:  92\n",
            "It's index:  5\n",
            "Lowest Score:  45\n",
            "It's Count:  2\n",
            "Reversed Tuple as a List: [45, 58, 92, 89, 45.4, 76, 89.5, 45]\n",
            "Enter the element to be searched: 76\n",
            "Element found at index:  2\n"
          ]
        }
      ]
    },
    {
      "cell_type": "markdown",
      "source": [
        "Question 3"
      ],
      "metadata": {
        "id": "oeLwkqMGsrK_"
      }
    },
    {
      "cell_type": "code",
      "source": [
        "import random\n",
        "from sympy import isprime\n",
        "List100 = [random.randint(100,900) for x in range(100)]\n",
        "print(len(List100))\n",
        "print(List100)\n",
        "odd=0\n",
        "even=0\n",
        "prime=0\n",
        "for x in List100:\n",
        "  if isprime(x):\n",
        "    prime+=1\n",
        "  if x%2==0:\n",
        "    even+=1\n",
        "  else:\n",
        "    odd+=1\n",
        "print(\"Number of even numbers: \",even)\n",
        "print(\"Number of odd numbers: \",odd)\n",
        "print(\"Number of prime numbers: \",prime)"
      ],
      "metadata": {
        "colab": {
          "base_uri": "https://localhost:8080/"
        },
        "id": "nRSoyqMOrXcM",
        "outputId": "c685e8bd-27c1-4679-bda0-f8bd7aa12128"
      },
      "execution_count": null,
      "outputs": [
        {
          "output_type": "stream",
          "name": "stdout",
          "text": [
            "100\n",
            "[406, 691, 660, 826, 187, 691, 339, 441, 867, 614, 137, 814, 447, 867, 425, 217, 334, 391, 479, 812, 502, 296, 607, 620, 710, 828, 173, 372, 578, 271, 589, 410, 782, 565, 573, 461, 716, 680, 169, 685, 667, 297, 192, 531, 120, 752, 360, 682, 325, 325, 598, 351, 599, 531, 755, 667, 334, 387, 469, 235, 112, 695, 829, 422, 765, 146, 575, 526, 719, 674, 725, 443, 742, 852, 651, 146, 832, 775, 493, 276, 226, 497, 151, 558, 458, 730, 275, 425, 476, 123, 693, 812, 849, 480, 458, 498, 322, 838, 858, 613]\n",
            "Number of even numbers:  47\n",
            "Number of odd numbers:  53\n",
            "Number of prime numbers:  14\n"
          ]
        }
      ]
    },
    {
      "cell_type": "code",
      "source": [],
      "metadata": {
        "id": "HZ_w2UsVtZqP"
      },
      "execution_count": null,
      "outputs": []
    },
    {
      "cell_type": "markdown",
      "source": [
        "Question 4"
      ],
      "metadata": {
        "id": "cHWLKZbltYhq"
      }
    },
    {
      "cell_type": "code",
      "source": [
        "A = {34, 56, 78, 90}\n",
        "B = {78, 45, 90, 23}\n",
        "\n",
        "# i.\n",
        "union = A | B\n",
        "print(\"Unique scores:\", union)\n",
        "\n",
        "# ii.\n",
        "intersection = A & B\n",
        "print(\"Common scores:\", intersection)\n",
        "\n",
        "# iii.\n",
        "symmetric = A ^ B\n",
        "print(\"Scores exclusive to each team:\", symmetric)\n",
        "\n",
        "# iv.\n",
        "is_subset = A.issubset(B)\n",
        "is_superset = B.issuperset(A)\n",
        "print(\"Is A a subset of B?\", is_subset)\n",
        "print(\"Is B a superset of A?\", is_superset)\n",
        "\n",
        "# v.\n",
        "X = int(input(\"Enter the score to remove from set A: \"))\n",
        "if X in A:\n",
        "    A.remove(X)\n",
        "    print(\"Set A after removing\", X, \":\", A)\n",
        "else:\n",
        "    print(X, \"is not present in set A.\")"
      ],
      "metadata": {
        "colab": {
          "base_uri": "https://localhost:8080/"
        },
        "id": "uifAIpMMtBVq",
        "outputId": "a1bf486a-3111-4351-b0d5-31fdd4a6004a"
      },
      "execution_count": null,
      "outputs": [
        {
          "output_type": "stream",
          "name": "stdout",
          "text": [
            "Unique scores: {34, 45, 78, 23, 56, 90}\n",
            "Common scores: {90, 78}\n",
            "Scores exclusive to each team: {34, 45, 23, 56}\n",
            "Is A a subset of B? False\n",
            "Is B a superset of A? False\n",
            "Enter the score to remove from set A: 78\n",
            "Set A after removing 78 : {56, 34, 90}\n"
          ]
        }
      ]
    },
    {
      "cell_type": "markdown",
      "source": [
        "Question 5"
      ],
      "metadata": {
        "id": "MhmsJ8UktdXv"
      }
    },
    {
      "cell_type": "code",
      "source": [
        "dictt={\n",
        "    \"name\": \"Kelly\",\n",
        "    \"age\":25,\n",
        "    \"salary\": 8000,\n",
        "    \"city\": \"New york\"\n",
        "}\n",
        "dictt[\"location\"]=dictt.pop(\"city\")\n",
        "print(dictt)"
      ],
      "metadata": {
        "colab": {
          "base_uri": "https://localhost:8080/"
        },
        "id": "4yXcvur2teaR",
        "outputId": "96474fc3-2d03-4885-a8f9-e60a3925aa8e"
      },
      "execution_count": null,
      "outputs": [
        {
          "output_type": "stream",
          "name": "stdout",
          "text": [
            "{'name': 'Kelly', 'age': 25, 'salary': 8000, 'location': 'New york'}\n"
          ]
        }
      ]
    }
  ]
}